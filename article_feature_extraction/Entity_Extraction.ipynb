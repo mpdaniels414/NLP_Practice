{
 "cells": [
  {
   "cell_type": "markdown",
   "source": [
    "#Article_Feature_Extraction.ipynb\n",
    "---\n",
    "## Objective\n",
    "The goal of **Article Feature Extraction** is to process an Excel file containing a column named `URL` with a list of article links. This process will generate a new Excel file that includes:\n",
    "\n",
    "- **News Source**: Extracted from the URL to identify the originating website.\n",
    "- **Header**: The main headline or title of the article.\n",
    "- **Text**: The cleaned and concatenated body text of the article.\n",
    "- **Authors**: A cleaned list of the article's authors.\n",
    "\n",
    "This cleaned and structured dataset will be prepa"
   ],
   "metadata": {
    "collapsed": false
   },
   "id": "84b98a0753d7e873"
  },
  {
   "cell_type": "code",
   "execution_count": 50,
   "id": "initial_id",
   "metadata": {
    "collapsed": true,
    "ExecuteTime": {
     "end_time": "2025-01-13T20:26:10.940890600Z",
     "start_time": "2025-01-13T20:26:10.915892800Z"
    }
   },
   "outputs": [],
   "source": [
    "import pandas as pd\n",
    "import requests\n",
    "import numpy as np\n",
    "from bs4 import BeautifulSoup\n",
    "import re\n",
    "import spacy"
   ]
  },
  {
   "cell_type": "code",
   "execution_count": 51,
   "outputs": [],
   "source": [
    "file_name = \"Articles_With_Text.xlsx\"\n",
    "col = \"full_text\""
   ],
   "metadata": {
    "collapsed": false,
    "ExecuteTime": {
     "end_time": "2025-01-13T20:26:10.962890100Z",
     "start_time": "2025-01-13T20:26:10.929891200Z"
    }
   },
   "id": "d53bac2db36da881"
  },
  {
   "cell_type": "code",
   "execution_count": 52,
   "outputs": [],
   "source": [
    "# Load the English language model\n",
    "nlp = spacy.load(\"en_core_web_sm\")\n",
    "\n",
    "def extract_entities_unique_string(text, entity_labels=[\"PRODUCT\", \"ORG\", \"GPE\", \"PERSON\"], delimiter=','):\n",
    "    \"\"\"\n",
    "    Function to extract unique specified entities from a text string\n",
    "    and return them as a single string.\n",
    "\n",
    "    Parameters:\n",
    "    text (str): Unfiltered/normal text.\n",
    "    entity_labels (list of str): List of entity labels to filter by.\n",
    "    delimiter (str): Delimiter to use for joining the entities.\n",
    "\n",
    "    Returns:\n",
    "    str: A single string containing the unique extracted entities from the text.\n",
    "    \"\"\"\n",
    "    # Create a spaCy Doc object from the input text\n",
    "    doc = nlp(text)\n",
    "    \n",
    "    # Extract unique entities based on the specified labels\n",
    "    unique_entities = set()\n",
    "    for ent in doc.ents:\n",
    "        if ent.label_ in entity_labels:\n",
    "            unique_entities.add(ent.text.strip())\n",
    "    \n",
    "    # Join the unique entities using the specified delimiter\n",
    "    unique_entities_string = delimiter.join(unique_entities)\n",
    "    return unique_entities_string"
   ],
   "metadata": {
    "collapsed": false,
    "ExecuteTime": {
     "end_time": "2025-01-13T20:26:11.321890Z",
     "start_time": "2025-01-13T20:26:10.946891700Z"
    }
   },
   "id": "40d65b961270a098"
  },
  {
   "cell_type": "code",
   "execution_count": 53,
   "outputs": [],
   "source": [
    "def remove_extra_characters(text):\n",
    "    '''\n",
    "    Function that processes the extracted entities by removing possessive forms, converting to lowercase,\n",
    "    and removing any additional punctuation, including bullet points and spaces used for indentation or listing.\n",
    "    Ensures uniqueness of entities.\n",
    "    \n",
    "    Parameters:\n",
    "    text (str): Extracted entities as a comma-separated string.\n",
    "    \n",
    "    Returns:\n",
    "    unique_entities_string str: Processed, cleaned, and unique entities joined by a comma.\n",
    "    '''\n",
    "    # Define the delimiter\n",
    "    delimiter = ','\n",
    "\n",
    "    # Split the input string into a list of items based on commas\n",
    "    items = text.split(',')\n",
    "    \n",
    "    cleaned_items = []\n",
    "    \n",
    "    for item in items:\n",
    "        # Remove possessive forms 's\n",
    "        item = item.replace(\"'s\", \"\").replace(\"’s\", \"\")\n",
    "        # Remove bullet points and following spaces\n",
    "        item = re.sub(r'[\\u2022•]\\s*', '', item)\n",
    "        # Convert to lowercase\n",
    "        item = item.lower()\n",
    "        # Strip leading/trailing whitespace\n",
    "        item = item.strip()\n",
    "        cleaned_items.append(item)\n",
    "    \n",
    "    # Use a set to remove duplicates and convert it back to a list\n",
    "    unique_items = list(set(cleaned_items))\n",
    "    unique_entities_string = delimiter.join(unique_items)\n",
    "    \n",
    "    return unique_entities_string # Creating a custom list of stopwords"
   ],
   "metadata": {
    "collapsed": false,
    "ExecuteTime": {
     "end_time": "2025-01-13T20:26:11.337890100Z",
     "start_time": "2025-01-13T20:26:11.324893900Z"
    }
   },
   "id": "392911fd05c96aec"
  },
  {
   "cell_type": "code",
   "execution_count": 54,
   "outputs": [
    {
     "data": {
      "text/plain": "                                                 URL News_Source  \\\n0  https://www.nbcnews.com/politics/politics-news...     nbcnews   \n1  https://www.nbcnews.com/news/world/magnitude-6...     nbcnews   \n2  https://www.nbcnews.com/news/world/north-korea...     nbcnews   \n3  https://www.nbcnews.com/news/world/taliban-not...     nbcnews   \n4  https://www.cnn.com/2025/01/13/middleeast/isra...         cnn   \n5  https://www.cnn.com/2025/01/13/politics/pete-h...         cnn   \n6  https://www.cnn.com/2025/01/11/middleeast/leba...         cnn   \n\n                                              header  \\\n0  Newsom says California wildfires will be one o...   \n1                                   Header not found   \n2                                   Header not found   \n3                                   Header not found   \n4  US officials say Gaza ceasefire deal is in sig...   \n5  Pete Hegseth says US military bases should res...   \n6  Watershed moment for the Middle East after Leb...   \n\n                                             authors  \\\n0                  Jacob Soboroff, Alexandra Marquez   \n1                                    Astha Rajvanshi   \n2     Stella Kim, Janis Mackey Frayer, Jennifer Jett   \n3                                    Astha Rajvanshi   \n4  Abeer Salman, Kareem Khadder, Mike Schwartz, L...   \n5                                   Andrew Kaczynski   \n6                                     Tamara Qiblawi   \n\n                                           full_text  \n0  California Gov. Gavin Newsom told NBC News’ “M...  \n1  A 6.6-magnitude earthquake has rattled the isl...  \n2  SEOUL, South Korea — About 300 North Korean tr...  \n3  Nobel Peace Prize laureate Malala Yousafzai de...  \n4  American officials believe a ceasefire and hos...  \n5  Pete Hegseth, President-elect Donald Trump’s p...  \n6  It was a last-minute push by Saudi Arabia that...  ",
      "text/html": "<div>\n<style scoped>\n    .dataframe tbody tr th:only-of-type {\n        vertical-align: middle;\n    }\n\n    .dataframe tbody tr th {\n        vertical-align: top;\n    }\n\n    .dataframe thead th {\n        text-align: right;\n    }\n</style>\n<table border=\"1\" class=\"dataframe\">\n  <thead>\n    <tr style=\"text-align: right;\">\n      <th></th>\n      <th>URL</th>\n      <th>News_Source</th>\n      <th>header</th>\n      <th>authors</th>\n      <th>full_text</th>\n    </tr>\n  </thead>\n  <tbody>\n    <tr>\n      <th>0</th>\n      <td>https://www.nbcnews.com/politics/politics-news...</td>\n      <td>nbcnews</td>\n      <td>Newsom says California wildfires will be one o...</td>\n      <td>Jacob Soboroff, Alexandra Marquez</td>\n      <td>California Gov. Gavin Newsom told NBC News’ “M...</td>\n    </tr>\n    <tr>\n      <th>1</th>\n      <td>https://www.nbcnews.com/news/world/magnitude-6...</td>\n      <td>nbcnews</td>\n      <td>Header not found</td>\n      <td>Astha Rajvanshi</td>\n      <td>A 6.6-magnitude earthquake has rattled the isl...</td>\n    </tr>\n    <tr>\n      <th>2</th>\n      <td>https://www.nbcnews.com/news/world/north-korea...</td>\n      <td>nbcnews</td>\n      <td>Header not found</td>\n      <td>Stella Kim, Janis Mackey Frayer, Jennifer Jett</td>\n      <td>SEOUL, South Korea — About 300 North Korean tr...</td>\n    </tr>\n    <tr>\n      <th>3</th>\n      <td>https://www.nbcnews.com/news/world/taliban-not...</td>\n      <td>nbcnews</td>\n      <td>Header not found</td>\n      <td>Astha Rajvanshi</td>\n      <td>Nobel Peace Prize laureate Malala Yousafzai de...</td>\n    </tr>\n    <tr>\n      <th>4</th>\n      <td>https://www.cnn.com/2025/01/13/middleeast/isra...</td>\n      <td>cnn</td>\n      <td>US officials say Gaza ceasefire deal is in sig...</td>\n      <td>Abeer Salman, Kareem Khadder, Mike Schwartz, L...</td>\n      <td>American officials believe a ceasefire and hos...</td>\n    </tr>\n    <tr>\n      <th>5</th>\n      <td>https://www.cnn.com/2025/01/13/politics/pete-h...</td>\n      <td>cnn</td>\n      <td>Pete Hegseth says US military bases should res...</td>\n      <td>Andrew Kaczynski</td>\n      <td>Pete Hegseth, President-elect Donald Trump’s p...</td>\n    </tr>\n    <tr>\n      <th>6</th>\n      <td>https://www.cnn.com/2025/01/11/middleeast/leba...</td>\n      <td>cnn</td>\n      <td>Watershed moment for the Middle East after Leb...</td>\n      <td>Tamara Qiblawi</td>\n      <td>It was a last-minute push by Saudi Arabia that...</td>\n    </tr>\n  </tbody>\n</table>\n</div>"
     },
     "execution_count": 54,
     "metadata": {},
     "output_type": "execute_result"
    }
   ],
   "source": [
    "def extract_text(file):\n",
    "    article_df = pd.read_excel(file)\n",
    "    return article_df\n",
    "text_df = extract_text(file_name)\n",
    "text_df"
   ],
   "metadata": {
    "collapsed": false,
    "ExecuteTime": {
     "end_time": "2025-01-13T20:26:11.465892200Z",
     "start_time": "2025-01-13T20:26:11.339891Z"
    }
   },
   "id": "a85bb15e7fe1c50"
  },
  {
   "cell_type": "code",
   "execution_count": 55,
   "outputs": [
    {
     "name": "stderr",
     "output_type": "stream",
     "text": [
      "C:\\Users\\maggi\\AppData\\Local\\Temp\\ipykernel_26236\\2357134382.py:6: FutureWarning: Setting an item of incompatible dtype is deprecated and will raise in a future error of pandas. Value 'donald trump,joe biden,gavin newsom,fema,los angeles,the united states,trump,marshall,california,ghana,u.s.,the united states of america,newsom,nbc news,l.a,karen bass,joe' has dtype incompatible with float64, please explicitly cast to a compatible dtype first.\n",
      "  df.at[index, 'entities'] = entities\n"
     ]
    }
   ],
   "source": [
    "def extract_entities(df):\n",
    "    df['entities'] = np.nan\n",
    "    for index, row in df.iterrows(): \n",
    "        text = remove_extra_characters(row['full_text'])\n",
    "        entities = extract_entities_unique_string(text)\n",
    "        df.at[index, 'entities'] = entities\n",
    "    return df\n",
    "\n",
    "entites_df = extract_entities(text_df)       "
   ],
   "metadata": {
    "collapsed": false,
    "ExecuteTime": {
     "end_time": "2025-01-13T20:26:12.325893900Z",
     "start_time": "2025-01-13T20:26:11.465892200Z"
    }
   },
   "id": "f6a482e05742b790"
  },
  {
   "cell_type": "code",
   "execution_count": 56,
   "outputs": [],
   "source": [
    "entites_df.to_excel(\"Entities_Extracted_From_Articles.xlsx\", index = False)"
   ],
   "metadata": {
    "collapsed": false,
    "ExecuteTime": {
     "end_time": "2025-01-13T20:26:12.358891300Z",
     "start_time": "2025-01-13T20:26:12.326892600Z"
    }
   },
   "id": "15bc63442258018d"
  },
  {
   "cell_type": "code",
   "execution_count": 56,
   "outputs": [],
   "source": [],
   "metadata": {
    "collapsed": false,
    "ExecuteTime": {
     "end_time": "2025-01-13T20:26:12.372889800Z",
     "start_time": "2025-01-13T20:26:12.357890900Z"
    }
   },
   "id": "fea7cb02f3cc9a03"
  }
 ],
 "metadata": {
  "kernelspec": {
   "display_name": "Python 3",
   "language": "python",
   "name": "python3"
  },
  "language_info": {
   "codemirror_mode": {
    "name": "ipython",
    "version": 2
   },
   "file_extension": ".py",
   "mimetype": "text/x-python",
   "name": "python",
   "nbconvert_exporter": "python",
   "pygments_lexer": "ipython2",
   "version": "2.7.6"
  }
 },
 "nbformat": 4,
 "nbformat_minor": 5
}
